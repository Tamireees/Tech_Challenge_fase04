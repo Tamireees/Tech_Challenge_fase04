{
 "cells": [
  {
   "cell_type": "markdown",
   "metadata": {},
   "source": [
    "# Desafio - Análise de Negócios"
   ]
  },
  {
   "cell_type": "markdown",
   "metadata": {},
   "source": [
    "Variação do Preço do Barril de Petróleo Brent\n",
    "\n",
    "Objetivo: Criar um dashboard analisando a variação do preço do barril de petróleo Brent ao longo do tempo,\n",
    "utilizando a tabela disponível no site Ipea Data. Além disso, você pode utilizar dados externos relevantes\n",
    "para complementar a análise.\n",
    "\n"
   ]
  },
  {
   "cell_type": "markdown",
   "metadata": {},
   "source": [
    "## Passo 1: Coletando os dados\n",
    "\n",
    "Acesse o site mencionado e baixe a tabela que contém os dados históricos do preço do barril de petróleo Brent (FOB). Os dados estão na página do Ipea, salve em um csv em seu computador."
   ]
  },
  {
   "cell_type": "code",
   "execution_count": 21,
   "metadata": {},
   "outputs": [
    {
     "name": "stdout",
     "output_type": "stream",
     "text": [
      "Requirement already satisfied: pandas in c:\\users\\tamir\\appdata\\local\\programs\\python\\python310\\lib\\site-packages (2.2.3)\n",
      "Requirement already satisfied: tzdata>=2022.7 in c:\\users\\tamir\\appdata\\local\\programs\\python\\python310\\lib\\site-packages (from pandas) (2024.2)\n",
      "Requirement already satisfied: numpy>=1.22.4 in c:\\users\\tamir\\appdata\\local\\programs\\python\\python310\\lib\\site-packages (from pandas) (2.1.2)\n",
      "Requirement already satisfied: python-dateutil>=2.8.2 in c:\\users\\tamir\\appdata\\roaming\\python\\python310\\site-packages (from pandas) (2.9.0.post0)\n",
      "Requirement already satisfied: pytz>=2020.1 in c:\\users\\tamir\\appdata\\local\\programs\\python\\python310\\lib\\site-packages (from pandas) (2024.2)\n",
      "Requirement already satisfied: six>=1.5 in c:\\users\\tamir\\appdata\\roaming\\python\\python310\\site-packages (from python-dateutil>=2.8.2->pandas) (1.16.0)\n",
      "Note: you may need to restart the kernel to use updated packages.\n"
     ]
    },
    {
     "name": "stderr",
     "output_type": "stream",
     "text": [
      "\n",
      "[notice] A new release of pip is available: 23.0.1 -> 24.3.1\n",
      "[notice] To update, run: python.exe -m pip install --upgrade pip\n"
     ]
    }
   ],
   "source": [
    "pip install pandas"
   ]
  },
  {
   "cell_type": "code",
   "execution_count": 22,
   "metadata": {},
   "outputs": [],
   "source": [
    "import pandas as pd"
   ]
  },
  {
   "cell_type": "code",
   "execution_count": 23,
   "metadata": {},
   "outputs": [],
   "source": [
    "dados = pd.read_csv('https://raw.githubusercontent.com/Tamireees/Tech_Challenge_fase04/refs/heads/main/ipeadata%5B28-10-2024-08-51%5D.csv', sep=',')"
   ]
  },
  {
   "cell_type": "markdown",
   "metadata": {},
   "source": [
    "* Preço por barril do petróleo bruto tipo Brent. Produzido no Mar do Norte (Europa), Brent é uma classe de petróleo bruto que serve como benchmark para o preço internacional de diferentes tipos de petróleo. Neste caso, é valorado no chamado preço FOB (free on board), que não inclui despesa de frete e seguro no preço."
   ]
  },
  {
   "cell_type": "code",
   "execution_count": 24,
   "metadata": {},
   "outputs": [
    {
     "data": {
      "text/html": [
       "<div>\n",
       "<style scoped>\n",
       "    .dataframe tbody tr th:only-of-type {\n",
       "        vertical-align: middle;\n",
       "    }\n",
       "\n",
       "    .dataframe tbody tr th {\n",
       "        vertical-align: top;\n",
       "    }\n",
       "\n",
       "    .dataframe thead th {\n",
       "        text-align: right;\n",
       "    }\n",
       "</style>\n",
       "<table border=\"1\" class=\"dataframe\">\n",
       "  <thead>\n",
       "    <tr style=\"text-align: right;\">\n",
       "      <th></th>\n",
       "      <th>Data</th>\n",
       "      <th>Preço - petróleo bruto - Brent (FOB) - US$ - Energy Information Administration (EIA) - EIA366_PBRENT366</th>\n",
       "      <th>Unnamed: 2</th>\n",
       "    </tr>\n",
       "  </thead>\n",
       "  <tbody>\n",
       "    <tr>\n",
       "      <th>0</th>\n",
       "      <td>20/05/1987</td>\n",
       "      <td>18.63</td>\n",
       "      <td>NaN</td>\n",
       "    </tr>\n",
       "    <tr>\n",
       "      <th>1</th>\n",
       "      <td>21/05/1987</td>\n",
       "      <td>18.45</td>\n",
       "      <td>NaN</td>\n",
       "    </tr>\n",
       "    <tr>\n",
       "      <th>2</th>\n",
       "      <td>22/05/1987</td>\n",
       "      <td>18.55</td>\n",
       "      <td>NaN</td>\n",
       "    </tr>\n",
       "    <tr>\n",
       "      <th>3</th>\n",
       "      <td>23/05/1987</td>\n",
       "      <td>NaN</td>\n",
       "      <td>NaN</td>\n",
       "    </tr>\n",
       "    <tr>\n",
       "      <th>4</th>\n",
       "      <td>24/05/1987</td>\n",
       "      <td>NaN</td>\n",
       "      <td>NaN</td>\n",
       "    </tr>\n",
       "  </tbody>\n",
       "</table>\n",
       "</div>"
      ],
      "text/plain": [
       "         Data  \\\n",
       "0  20/05/1987   \n",
       "1  21/05/1987   \n",
       "2  22/05/1987   \n",
       "3  23/05/1987   \n",
       "4  24/05/1987   \n",
       "\n",
       "   Preço - petróleo bruto - Brent (FOB) - US$ - Energy Information Administration (EIA) - EIA366_PBRENT366  \\\n",
       "0                                              18.63                                                         \n",
       "1                                              18.45                                                         \n",
       "2                                              18.55                                                         \n",
       "3                                                NaN                                                         \n",
       "4                                                NaN                                                         \n",
       "\n",
       "   Unnamed: 2  \n",
       "0         NaN  \n",
       "1         NaN  \n",
       "2         NaN  \n",
       "3         NaN  \n",
       "4         NaN  "
      ]
     },
     "execution_count": 24,
     "metadata": {},
     "output_type": "execute_result"
    }
   ],
   "source": [
    "dados.head()"
   ]
  },
  {
   "cell_type": "markdown",
   "metadata": {},
   "source": [
    "## Passo 2: Limpeza e preparação dos dados\n",
    "Utilize ferramentas de sua preferência (com Python) para abrir o arquivo CSV e fazer a limpeza e preparação dos dados. Verifique se há dados ausentes, remova linhas ou preencha-os conforme apropriado. Certifique se de que as colunas estão corretamente formatadas e converta-as, se necessário."
   ]
  },
  {
   "cell_type": "code",
   "execution_count": 25,
   "metadata": {},
   "outputs": [
    {
     "data": {
      "text/plain": [
       "Index(['Data',\n",
       "       'Preço - petróleo bruto - Brent (FOB) - US$ - Energy Information Administration (EIA) - EIA366_PBRENT366',\n",
       "       'Unnamed: 2'],\n",
       "      dtype='object')"
      ]
     },
     "execution_count": 25,
     "metadata": {},
     "output_type": "execute_result"
    }
   ],
   "source": [
    "dados.columns"
   ]
  },
  {
   "cell_type": "code",
   "execution_count": 26,
   "metadata": {},
   "outputs": [
    {
     "data": {
      "text/plain": [
       "(13670, 3)"
      ]
     },
     "execution_count": 26,
     "metadata": {},
     "output_type": "execute_result"
    }
   ],
   "source": [
    "dados.shape"
   ]
  },
  {
   "cell_type": "code",
   "execution_count": 27,
   "metadata": {},
   "outputs": [],
   "source": [
    "dados.rename(columns={'Data': 'data', 'Preço - petróleo bruto - Brent (FOB) - US$ - Energy Information Administration (EIA) - EIA366_PBRENT366': 'preco_petroleo', 'Unnamed: 2': 'excluir'}, inplace=True)"
   ]
  },
  {
   "cell_type": "code",
   "execution_count": 28,
   "metadata": {},
   "outputs": [],
   "source": [
    "# Deletando a ultima coluna que nao tem nenhuma informação:\n",
    "dados.drop(columns='excluir', inplace=True)"
   ]
  },
  {
   "cell_type": "code",
   "execution_count": 29,
   "metadata": {},
   "outputs": [
    {
     "data": {
      "text/plain": [
       "data        preco_petroleo\n",
       "31/12/2021  77.24             1\n",
       "01/01/2005  40.24             1\n",
       "01/01/2006  56.91             1\n",
       "01/01/2007  59.41             1\n",
       "01/01/2008  95.92             1\n",
       "                             ..\n",
       "01/02/2000  27.35             1\n",
       "01/02/2001  27.17             1\n",
       "01/02/2002  19.70             1\n",
       "01/02/2003  30.73             1\n",
       "01/02/2004  30.77             1\n",
       "Name: count, Length: 11282, dtype: int64"
      ]
     },
     "execution_count": 29,
     "metadata": {},
     "output_type": "execute_result"
    }
   ],
   "source": [
    "# Verificando se há valores duplicados:\n",
    "dados.value_counts()"
   ]
  },
  {
   "cell_type": "code",
   "execution_count": 30,
   "metadata": {},
   "outputs": [
    {
     "name": "stderr",
     "output_type": "stream",
     "text": [
      "C:\\Users\\tamir\\AppData\\Local\\Temp\\ipykernel_23224\\2163437755.py:2: FutureWarning: A value is trying to be set on a copy of a DataFrame or Series through chained assignment using an inplace method.\n",
      "The behavior will change in pandas 3.0. This inplace method will never work because the intermediate object on which we are setting values always behaves as a copy.\n",
      "\n",
      "For example, when doing 'df[col].method(value, inplace=True)', try using 'df.method({col: value}, inplace=True)' or df[col] = df[col].method(value) instead, to perform the operation inplace on the original object.\n",
      "\n",
      "\n",
      "  dados['preco_petroleo'].fillna(value = '0.00', inplace=True)\n",
      "C:\\Users\\tamir\\AppData\\Local\\Temp\\ipykernel_23224\\2163437755.py:2: FutureWarning: Setting an item of incompatible dtype is deprecated and will raise an error in a future version of pandas. Value '0.00' has dtype incompatible with float64, please explicitly cast to a compatible dtype first.\n",
      "  dados['preco_petroleo'].fillna(value = '0.00', inplace=True)\n"
     ]
    }
   ],
   "source": [
    "# Substituindo o valor nulo (nan) por '0,00':\n",
    "dados['preco_petroleo'].fillna(value = '0.00', inplace=True)"
   ]
  },
  {
   "cell_type": "code",
   "execution_count": 31,
   "metadata": {},
   "outputs": [],
   "source": [
    "# Alterando os tipos de dados:\n",
    "dados['preco_petroleo'] = dados['preco_petroleo'].astype(float)"
   ]
  },
  {
   "cell_type": "code",
   "execution_count": 32,
   "metadata": {},
   "outputs": [
    {
     "name": "stderr",
     "output_type": "stream",
     "text": [
      "C:\\Users\\tamir\\AppData\\Local\\Temp\\ipykernel_23224\\48893709.py:1: UserWarning: Parsing dates in %d/%m/%Y format when dayfirst=False (the default) was specified. Pass `dayfirst=True` or specify a format to silence this warning.\n",
      "  dados['data'] = pd.to_datetime(dados['data'] )\n"
     ]
    }
   ],
   "source": [
    "\n",
    "dados['data'] = pd.to_datetime(dados['data'] )"
   ]
  },
  {
   "cell_type": "code",
   "execution_count": 33,
   "metadata": {},
   "outputs": [],
   "source": [
    "dados['ano'] = dados['data'].dt.year\n",
    "dados['mes'] = dados['data'].dt.month"
   ]
  },
  {
   "cell_type": "code",
   "execution_count": 34,
   "metadata": {},
   "outputs": [
    {
     "name": "stdout",
     "output_type": "stream",
     "text": [
      "<class 'pandas.core.frame.DataFrame'>\n",
      "RangeIndex: 13670 entries, 0 to 13669\n",
      "Data columns (total 4 columns):\n",
      " #   Column          Non-Null Count  Dtype         \n",
      "---  ------          --------------  -----         \n",
      " 0   data            13670 non-null  datetime64[ns]\n",
      " 1   preco_petroleo  13670 non-null  float64       \n",
      " 2   ano             13670 non-null  int32         \n",
      " 3   mes             13670 non-null  int32         \n",
      "dtypes: datetime64[ns](1), float64(1), int32(2)\n",
      "memory usage: 320.5 KB\n"
     ]
    }
   ],
   "source": [
    "dados.info()"
   ]
  },
  {
   "cell_type": "markdown",
   "metadata": {},
   "source": [
    "\n",
    "## Passo 3: Análise exploratória\n",
    "\n",
    "Explore os dados para obter insights preliminares sobre a variação do preço do barril de petróleo Brent. Calcule estatísticas descritivas básicas, como média, mediana, mínimo, máximo e desvio padrão do preço. Plote um gráficos para entender bem o dataset."
   ]
  },
  {
   "cell_type": "code",
   "execution_count": 35,
   "metadata": {},
   "outputs": [
    {
     "data": {
      "text/html": [
       "<div>\n",
       "<style scoped>\n",
       "    .dataframe tbody tr th:only-of-type {\n",
       "        vertical-align: middle;\n",
       "    }\n",
       "\n",
       "    .dataframe tbody tr th {\n",
       "        vertical-align: top;\n",
       "    }\n",
       "\n",
       "    .dataframe thead th {\n",
       "        text-align: right;\n",
       "    }\n",
       "</style>\n",
       "<table border=\"1\" class=\"dataframe\">\n",
       "  <thead>\n",
       "    <tr style=\"text-align: right;\">\n",
       "      <th></th>\n",
       "      <th>data</th>\n",
       "      <th>preco_petroleo</th>\n",
       "      <th>ano</th>\n",
       "      <th>mes</th>\n",
       "    </tr>\n",
       "  </thead>\n",
       "  <tbody>\n",
       "    <tr>\n",
       "      <th>0</th>\n",
       "      <td>1987-05-20</td>\n",
       "      <td>18.63</td>\n",
       "      <td>1987</td>\n",
       "      <td>5</td>\n",
       "    </tr>\n",
       "    <tr>\n",
       "      <th>1</th>\n",
       "      <td>1987-05-21</td>\n",
       "      <td>18.45</td>\n",
       "      <td>1987</td>\n",
       "      <td>5</td>\n",
       "    </tr>\n",
       "    <tr>\n",
       "      <th>2</th>\n",
       "      <td>1987-05-22</td>\n",
       "      <td>18.55</td>\n",
       "      <td>1987</td>\n",
       "      <td>5</td>\n",
       "    </tr>\n",
       "    <tr>\n",
       "      <th>3</th>\n",
       "      <td>1987-05-23</td>\n",
       "      <td>0.00</td>\n",
       "      <td>1987</td>\n",
       "      <td>5</td>\n",
       "    </tr>\n",
       "    <tr>\n",
       "      <th>4</th>\n",
       "      <td>1987-05-24</td>\n",
       "      <td>0.00</td>\n",
       "      <td>1987</td>\n",
       "      <td>5</td>\n",
       "    </tr>\n",
       "  </tbody>\n",
       "</table>\n",
       "</div>"
      ],
      "text/plain": [
       "        data  preco_petroleo   ano  mes\n",
       "0 1987-05-20           18.63  1987    5\n",
       "1 1987-05-21           18.45  1987    5\n",
       "2 1987-05-22           18.55  1987    5\n",
       "3 1987-05-23            0.00  1987    5\n",
       "4 1987-05-24            0.00  1987    5"
      ]
     },
     "execution_count": 35,
     "metadata": {},
     "output_type": "execute_result"
    }
   ],
   "source": [
    "dados.head()"
   ]
  },
  {
   "cell_type": "code",
   "execution_count": 36,
   "metadata": {},
   "outputs": [
    {
     "data": {
      "text/html": [
       "<div>\n",
       "<style scoped>\n",
       "    .dataframe tbody tr th:only-of-type {\n",
       "        vertical-align: middle;\n",
       "    }\n",
       "\n",
       "    .dataframe tbody tr th {\n",
       "        vertical-align: top;\n",
       "    }\n",
       "\n",
       "    .dataframe thead th {\n",
       "        text-align: right;\n",
       "    }\n",
       "</style>\n",
       "<table border=\"1\" class=\"dataframe\">\n",
       "  <thead>\n",
       "    <tr style=\"text-align: right;\">\n",
       "      <th></th>\n",
       "      <th>count</th>\n",
       "      <th>mean</th>\n",
       "      <th>min</th>\n",
       "      <th>25%</th>\n",
       "      <th>50%</th>\n",
       "      <th>75%</th>\n",
       "      <th>max</th>\n",
       "      <th>std</th>\n",
       "    </tr>\n",
       "  </thead>\n",
       "  <tbody>\n",
       "    <tr>\n",
       "      <th>data</th>\n",
       "      <td>13670</td>\n",
       "      <td>2006-02-03 12:00:00</td>\n",
       "      <td>1987-05-20 00:00:00</td>\n",
       "      <td>1996-09-26 06:00:00</td>\n",
       "      <td>2006-02-03 12:00:00</td>\n",
       "      <td>2015-06-13 18:00:00</td>\n",
       "      <td>2024-10-21 00:00:00</td>\n",
       "      <td>NaN</td>\n",
       "    </tr>\n",
       "    <tr>\n",
       "      <th>preco_petroleo</th>\n",
       "      <td>13670.0</td>\n",
       "      <td>43.983937</td>\n",
       "      <td>0.0</td>\n",
       "      <td>16.55</td>\n",
       "      <td>32.52</td>\n",
       "      <td>71.2075</td>\n",
       "      <td>143.95</td>\n",
       "      <td>36.300833</td>\n",
       "    </tr>\n",
       "    <tr>\n",
       "      <th>ano</th>\n",
       "      <td>13670.0</td>\n",
       "      <td>2005.592392</td>\n",
       "      <td>1987.0</td>\n",
       "      <td>1996.0</td>\n",
       "      <td>2006.0</td>\n",
       "      <td>2015.0</td>\n",
       "      <td>2024.0</td>\n",
       "      <td>10.809644</td>\n",
       "    </tr>\n",
       "    <tr>\n",
       "      <th>mes</th>\n",
       "      <td>13670.0</td>\n",
       "      <td>6.535406</td>\n",
       "      <td>1.0</td>\n",
       "      <td>4.0</td>\n",
       "      <td>7.0</td>\n",
       "      <td>10.0</td>\n",
       "      <td>12.0</td>\n",
       "      <td>3.435115</td>\n",
       "    </tr>\n",
       "  </tbody>\n",
       "</table>\n",
       "</div>"
      ],
      "text/plain": [
       "                  count                 mean                  min  \\\n",
       "data              13670  2006-02-03 12:00:00  1987-05-20 00:00:00   \n",
       "preco_petroleo  13670.0            43.983937                  0.0   \n",
       "ano             13670.0          2005.592392               1987.0   \n",
       "mes             13670.0             6.535406                  1.0   \n",
       "\n",
       "                                25%                  50%                  75%  \\\n",
       "data            1996-09-26 06:00:00  2006-02-03 12:00:00  2015-06-13 18:00:00   \n",
       "preco_petroleo                16.55                32.52              71.2075   \n",
       "ano                          1996.0               2006.0               2015.0   \n",
       "mes                             4.0                  7.0                 10.0   \n",
       "\n",
       "                                max        std  \n",
       "data            2024-10-21 00:00:00        NaN  \n",
       "preco_petroleo               143.95  36.300833  \n",
       "ano                          2024.0  10.809644  \n",
       "mes                            12.0   3.435115  "
      ]
     },
     "execution_count": 36,
     "metadata": {},
     "output_type": "execute_result"
    }
   ],
   "source": [
    "dados.describe().T"
   ]
  },
  {
   "cell_type": "code",
   "execution_count": 37,
   "metadata": {},
   "outputs": [
    {
     "name": "stdout",
     "output_type": "stream",
     "text": [
      "Requirement already satisfied: seaborn in c:\\users\\tamir\\appdata\\local\\programs\\python\\python310\\lib\\site-packages (0.13.2)\n",
      "Requirement already satisfied: matplotlib!=3.6.1,>=3.4 in c:\\users\\tamir\\appdata\\local\\programs\\python\\python310\\lib\\site-packages (from seaborn) (3.9.2)\n",
      "Requirement already satisfied: pandas>=1.2 in c:\\users\\tamir\\appdata\\local\\programs\\python\\python310\\lib\\site-packages (from seaborn) (2.2.3)\n",
      "Requirement already satisfied: numpy!=1.24.0,>=1.20 in c:\\users\\tamir\\appdata\\local\\programs\\python\\python310\\lib\\site-packages (from seaborn) (2.1.2)\n",
      "Requirement already satisfied: kiwisolver>=1.3.1 in c:\\users\\tamir\\appdata\\local\\programs\\python\\python310\\lib\\site-packages (from matplotlib!=3.6.1,>=3.4->seaborn) (1.4.7)\n",
      "Requirement already satisfied: packaging>=20.0 in c:\\users\\tamir\\appdata\\roaming\\python\\python310\\site-packages (from matplotlib!=3.6.1,>=3.4->seaborn) (24.1)\n",
      "Requirement already satisfied: pyparsing>=2.3.1 in c:\\users\\tamir\\appdata\\local\\programs\\python\\python310\\lib\\site-packages (from matplotlib!=3.6.1,>=3.4->seaborn) (3.2.0)\n",
      "Requirement already satisfied: cycler>=0.10 in c:\\users\\tamir\\appdata\\local\\programs\\python\\python310\\lib\\site-packages (from matplotlib!=3.6.1,>=3.4->seaborn) (0.12.1)\n",
      "Requirement already satisfied: contourpy>=1.0.1 in c:\\users\\tamir\\appdata\\local\\programs\\python\\python310\\lib\\site-packages (from matplotlib!=3.6.1,>=3.4->seaborn) (1.3.0)\n",
      "Requirement already satisfied: python-dateutil>=2.7 in c:\\users\\tamir\\appdata\\roaming\\python\\python310\\site-packages (from matplotlib!=3.6.1,>=3.4->seaborn) (2.9.0.post0)\n",
      "Requirement already satisfied: pillow>=8 in c:\\users\\tamir\\appdata\\local\\programs\\python\\python310\\lib\\site-packages (from matplotlib!=3.6.1,>=3.4->seaborn) (11.0.0)\n",
      "Requirement already satisfied: fonttools>=4.22.0 in c:\\users\\tamir\\appdata\\local\\programs\\python\\python310\\lib\\site-packages (from matplotlib!=3.6.1,>=3.4->seaborn) (4.54.1)\n",
      "Requirement already satisfied: pytz>=2020.1 in c:\\users\\tamir\\appdata\\local\\programs\\python\\python310\\lib\\site-packages (from pandas>=1.2->seaborn) (2024.2)\n",
      "Requirement already satisfied: tzdata>=2022.7 in c:\\users\\tamir\\appdata\\local\\programs\\python\\python310\\lib\\site-packages (from pandas>=1.2->seaborn) (2024.2)\n",
      "Requirement already satisfied: six>=1.5 in c:\\users\\tamir\\appdata\\roaming\\python\\python310\\site-packages (from python-dateutil>=2.7->matplotlib!=3.6.1,>=3.4->seaborn) (1.16.0)\n",
      "Note: you may need to restart the kernel to use updated packages.\n"
     ]
    },
    {
     "name": "stderr",
     "output_type": "stream",
     "text": [
      "\n",
      "[notice] A new release of pip is available: 23.0.1 -> 24.3.1\n",
      "[notice] To update, run: python.exe -m pip install --upgrade pip\n"
     ]
    }
   ],
   "source": [
    "pip install seaborn"
   ]
  },
  {
   "cell_type": "code",
   "execution_count": 38,
   "metadata": {},
   "outputs": [
    {
     "name": "stdout",
     "output_type": "stream",
     "text": [
      "Requirement already satisfied: matplotlib in c:\\users\\tamir\\appdata\\local\\programs\\python\\python310\\lib\\site-packages (3.9.2)\n",
      "Requirement already satisfied: contourpy>=1.0.1 in c:\\users\\tamir\\appdata\\local\\programs\\python\\python310\\lib\\site-packages (from matplotlib) (1.3.0)\n",
      "Requirement already satisfied: pillow>=8 in c:\\users\\tamir\\appdata\\local\\programs\\python\\python310\\lib\\site-packages (from matplotlib) (11.0.0)\n",
      "Requirement already satisfied: python-dateutil>=2.7 in c:\\users\\tamir\\appdata\\roaming\\python\\python310\\site-packages (from matplotlib) (2.9.0.post0)\n",
      "Requirement already satisfied: pyparsing>=2.3.1 in c:\\users\\tamir\\appdata\\local\\programs\\python\\python310\\lib\\site-packages (from matplotlib) (3.2.0)\n",
      "Requirement already satisfied: fonttools>=4.22.0 in c:\\users\\tamir\\appdata\\local\\programs\\python\\python310\\lib\\site-packages (from matplotlib) (4.54.1)\n",
      "Requirement already satisfied: packaging>=20.0 in c:\\users\\tamir\\appdata\\roaming\\python\\python310\\site-packages (from matplotlib) (24.1)\n",
      "Requirement already satisfied: cycler>=0.10 in c:\\users\\tamir\\appdata\\local\\programs\\python\\python310\\lib\\site-packages (from matplotlib) (0.12.1)\n",
      "Requirement already satisfied: kiwisolver>=1.3.1 in c:\\users\\tamir\\appdata\\local\\programs\\python\\python310\\lib\\site-packages (from matplotlib) (1.4.7)\n",
      "Requirement already satisfied: numpy>=1.23 in c:\\users\\tamir\\appdata\\local\\programs\\python\\python310\\lib\\site-packages (from matplotlib) (2.1.2)\n",
      "Requirement already satisfied: six>=1.5 in c:\\users\\tamir\\appdata\\roaming\\python\\python310\\site-packages (from python-dateutil>=2.7->matplotlib) (1.16.0)\n",
      "Note: you may need to restart the kernel to use updated packages.\n"
     ]
    },
    {
     "name": "stderr",
     "output_type": "stream",
     "text": [
      "\n",
      "[notice] A new release of pip is available: 23.0.1 -> 24.3.1\n",
      "[notice] To update, run: python.exe -m pip install --upgrade pip\n"
     ]
    }
   ],
   "source": [
    "pip install matplotlib"
   ]
  },
  {
   "cell_type": "code",
   "execution_count": 39,
   "metadata": {},
   "outputs": [],
   "source": [
    "import seaborn as sns\n",
    "import matplotlib.pyplot as plt"
   ]
  },
  {
   "cell_type": "code",
   "execution_count": 19,
   "metadata": {},
   "outputs": [
    {
     "data": {
      "text/html": [
       "<div>\n",
       "<style scoped>\n",
       "    .dataframe tbody tr th:only-of-type {\n",
       "        vertical-align: middle;\n",
       "    }\n",
       "\n",
       "    .dataframe tbody tr th {\n",
       "        vertical-align: top;\n",
       "    }\n",
       "\n",
       "    .dataframe thead th {\n",
       "        text-align: right;\n",
       "    }\n",
       "</style>\n",
       "<table border=\"1\" class=\"dataframe\">\n",
       "  <thead>\n",
       "    <tr style=\"text-align: right;\">\n",
       "      <th></th>\n",
       "      <th>ano</th>\n",
       "      <th>meses_unicos</th>\n",
       "      <th>soma_preco_petroleo</th>\n",
       "    </tr>\n",
       "  </thead>\n",
       "  <tbody>\n",
       "    <tr>\n",
       "      <th>0</th>\n",
       "      <td>1987</td>\n",
       "      <td>8</td>\n",
       "      <td>2964.13</td>\n",
       "    </tr>\n",
       "    <tr>\n",
       "      <th>1</th>\n",
       "      <td>1988</td>\n",
       "      <td>12</td>\n",
       "      <td>3800.88</td>\n",
       "    </tr>\n",
       "    <tr>\n",
       "      <th>2</th>\n",
       "      <td>1989</td>\n",
       "      <td>12</td>\n",
       "      <td>4629.97</td>\n",
       "    </tr>\n",
       "    <tr>\n",
       "      <th>3</th>\n",
       "      <td>1990</td>\n",
       "      <td>12</td>\n",
       "      <td>6082.93</td>\n",
       "    </tr>\n",
       "    <tr>\n",
       "      <th>4</th>\n",
       "      <td>1991</td>\n",
       "      <td>12</td>\n",
       "      <td>5150.57</td>\n",
       "    </tr>\n",
       "  </tbody>\n",
       "</table>\n",
       "</div>"
      ],
      "text/plain": [
       "    ano  meses_unicos  soma_preco_petroleo\n",
       "0  1987             8              2964.13\n",
       "1  1988            12              3800.88\n",
       "2  1989            12              4629.97\n",
       "3  1990            12              6082.93\n",
       "4  1991            12              5150.57"
      ]
     },
     "execution_count": 19,
     "metadata": {},
     "output_type": "execute_result"
    }
   ],
   "source": [
    "# Verificando se os meses unicos para cada ano, e caso algum tenha o valor diferenciado, iremos excluir da analise.\n",
    "contagem_meses_por_ano = dados.groupby('ano').agg(meses_unicos=('mes', 'nunique'),\n",
    "                                                  soma_preco_petroleo=('preco_petroleo', 'sum')).reset_index()\n",
    "\n",
    "contagem_meses_por_ano.head()"
   ]
  },
  {
   "cell_type": "code",
   "execution_count": 42,
   "metadata": {},
   "outputs": [
    {
     "name": "stdout",
     "output_type": "stream",
     "text": [
      "     ano  meses_unicos  soma_preco_petroleo\n",
      "1   1989            12              4629.97\n",
      "2   1990            12              6082.93\n",
      "3   1991            12              5150.57\n",
      "4   1992            12              4965.17\n",
      "5   1993            12              4287.38\n",
      "6   1994            12              3995.81\n",
      "7   1995            12              4305.01\n",
      "8   1996            12              5242.51\n",
      "9   1997            12              4738.91\n",
      "10  1998            12              3227.80\n",
      "11  1999            12              4457.49\n",
      "12  2000            12              7251.15\n",
      "13  2001            12              6285.12\n",
      "14  2002            12              8431.54\n",
      "15  2003            12             10444.97\n",
      "16  2004            12             13929.13\n",
      "17  2005            12             19774.62\n",
      "18  2006            12             23702.57\n",
      "19  2007            12             25858.87\n",
      "20  2008            12             35404.04\n",
      "21  2009            12             22257.05\n",
      "22  2010            12             28918.79\n",
      "23  2011            12             40285.37\n",
      "24  2012            12             40102.77\n",
      "25  2013            12             38760.81\n",
      "26  2014            12             35887.24\n",
      "27  2015            12             19178.20\n",
      "28  2016            12             15923.28\n",
      "29  2017            12             19661.42\n",
      "30  2018            12             22385.02\n",
      "31  2019            12             16932.11\n",
      "32  2020            12             10719.68\n",
      "33  2021            12             17996.58\n",
      "34  2022            12             25825.76\n",
      "35  2023            12             20671.24\n"
     ]
    }
   ],
   "source": [
    "# Excluindo a primeira linha do ano 1987, pois tem dados faltantes e a ultima, 2024 que ainda faltam dados.T\n",
    "\n",
    "# Excluir as linhas desejadas\n",
    "contagem_meses_por_ano = contagem_meses_por_ano.drop([0, 36])\n",
    "print(contagem_meses_por_ano)\n"
   ]
  },
  {
   "cell_type": "code",
   "execution_count": 180,
   "metadata": {},
   "outputs": [
    {
     "name": "stderr",
     "output_type": "stream",
     "text": [
      "C:\\Users\\tamir\\AppData\\Local\\Temp\\ipykernel_23224\\3822457277.py:2: FutureWarning: \n",
      "\n",
      "Passing `palette` without assigning `hue` is deprecated and will be removed in v0.14.0. Assign the `x` variable to `hue` and set `legend=False` for the same effect.\n",
      "\n",
      "  ax = sns.barplot(x='ano', y='soma_preco_petroleo', data=contagem_meses_por_ano, palette=\"cividis\")\n"
     ]
    },
    {
     "data": {
      "image/png": "[encoded data removed]",
      "text/plain": [
       "<Figure size 1000x600 with 1 Axes>"
      ]
     },
     "metadata": {},
     "output_type": "display_data"
    }
   ],
   "source": [
    "plt.figure(figsize=(10, 6))  # Ajusta o tamanho da figura\n",
    "ax = sns.barplot(x='ano', y='soma_preco_petroleo', data=contagem_meses_por_ano, palette=\"cividis\")\n",
    "\n",
    "# Adiciona título e rótulos dos eixos\n",
    "plt.title('Valor do Petróleo por Ano', fontsize=14)\n",
    "plt.xlabel('Preço ($)', fontsize=12)\n",
    "plt.ylabel('Ano', fontsize=12)\n",
    "\n",
    "# Ajusta a rotação dos valores no eixo x\n",
    "plt.xticks(rotation=45\n",
    "           )  # Define rotação de 0 graus\n",
    "\n",
    "plt.tight_layout()  # Ajusta o layout\n",
    "plt.show()"
   ]
  },
  {
   "cell_type": "markdown",
   "metadata": {},
   "source": [
    "* **Entre 1988 e 2000, o preço anual manteve-se em até 10.000.**\n",
    "* **Ano de 2000 ate 2023, ocorreu muitos altos e baixo.**\n",
    "\n",
    "* **Houve um aumento drástico em 2008.**\n",
    "* **O preço caiu em 2009.**\n",
    "* **Nos anos de 2011, 2012, 2013 e 2014, ocorreu um aumento significativo no preço.**"
   ]
  },
  {
   "cell_type": "code",
   "execution_count": 25,
   "metadata": {},
   "outputs": [
    {
     "data": {
      "image/png": "[encoded data removed]",
      "text/plain": [
       "<Figure size 400x400 with 1 Axes>"
      ]
     },
     "metadata": {},
     "output_type": "display_data"
    }
   ],
   "source": [
    "ax = sns.boxplot(y=dados['preco_petroleo'], data=dados)\n",
    "ax.figure.set_size_inches(4,4)"
   ]
  },
  {
   "cell_type": "markdown",
   "metadata": {},
   "source": [
    "**Considerando os dados apresentados, a análise de um período tão extenso pode dificultar a identificação de tendências claras, especialmente porque as variações mais relevantes ocorreram após os anos 2000. Assim, faz mais sentido focar nesse intervalo mais recente, excluindo os dados anteriores a 2000 do nosso dataframe. Essa abordagem permitirá uma investigação mais precisa das oscilações de preço e facilitará a identificação de padrões significativos.**\n"
   ]
  },
  {
   "cell_type": "code",
   "execution_count": 43,
   "metadata": {},
   "outputs": [
    {
     "data": {
      "text/html": [
       "<div>\n",
       "<style scoped>\n",
       "    .dataframe tbody tr th:only-of-type {\n",
       "        vertical-align: middle;\n",
       "    }\n",
       "\n",
       "    .dataframe tbody tr th {\n",
       "        vertical-align: top;\n",
       "    }\n",
       "\n",
       "    .dataframe thead th {\n",
       "        text-align: right;\n",
       "    }\n",
       "</style>\n",
       "<table border=\"1\" class=\"dataframe\">\n",
       "  <thead>\n",
       "    <tr style=\"text-align: right;\">\n",
       "      <th></th>\n",
       "      <th>ano</th>\n",
       "      <th>meses_unicos</th>\n",
       "      <th>soma_preco_petroleo</th>\n",
       "    </tr>\n",
       "  </thead>\n",
       "  <tbody>\n",
       "    <tr>\n",
       "      <th>1</th>\n",
       "      <td>1989</td>\n",
       "      <td>12</td>\n",
       "      <td>4629.97</td>\n",
       "    </tr>\n",
       "    <tr>\n",
       "      <th>2</th>\n",
       "      <td>1990</td>\n",
       "      <td>12</td>\n",
       "      <td>6082.93</td>\n",
       "    </tr>\n",
       "    <tr>\n",
       "      <th>3</th>\n",
       "      <td>1991</td>\n",
       "      <td>12</td>\n",
       "      <td>5150.57</td>\n",
       "    </tr>\n",
       "    <tr>\n",
       "      <th>4</th>\n",
       "      <td>1992</td>\n",
       "      <td>12</td>\n",
       "      <td>4965.17</td>\n",
       "    </tr>\n",
       "    <tr>\n",
       "      <th>5</th>\n",
       "      <td>1993</td>\n",
       "      <td>12</td>\n",
       "      <td>4287.38</td>\n",
       "    </tr>\n",
       "  </tbody>\n",
       "</table>\n",
       "</div>"
      ],
      "text/plain": [
       "    ano  meses_unicos  soma_preco_petroleo\n",
       "1  1989            12              4629.97\n",
       "2  1990            12              6082.93\n",
       "3  1991            12              5150.57\n",
       "4  1992            12              4965.17\n",
       "5  1993            12              4287.38"
      ]
     },
     "execution_count": 43,
     "metadata": {},
     "output_type": "execute_result"
    }
   ],
   "source": [
    "contagem_meses_por_ano.head()"
   ]
  },
  {
   "cell_type": "code",
   "execution_count": 51,
   "metadata": {},
   "outputs": [
    {
     "data": {
      "text/html": [
       "<div>\n",
       "<style scoped>\n",
       "    .dataframe tbody tr th:only-of-type {\n",
       "        vertical-align: middle;\n",
       "    }\n",
       "\n",
       "    .dataframe tbody tr th {\n",
       "        vertical-align: top;\n",
       "    }\n",
       "\n",
       "    .dataframe thead th {\n",
       "        text-align: right;\n",
       "    }\n",
       "</style>\n",
       "<table border=\"1\" class=\"dataframe\">\n",
       "  <thead>\n",
       "    <tr style=\"text-align: right;\">\n",
       "      <th></th>\n",
       "      <th>ano</th>\n",
       "      <th>meses_unicos</th>\n",
       "      <th>soma_preco_petroleo</th>\n",
       "    </tr>\n",
       "  </thead>\n",
       "  <tbody>\n",
       "    <tr>\n",
       "      <th>0</th>\n",
       "      <td>2000</td>\n",
       "      <td>12</td>\n",
       "      <td>7251.15</td>\n",
       "    </tr>\n",
       "    <tr>\n",
       "      <th>1</th>\n",
       "      <td>2001</td>\n",
       "      <td>12</td>\n",
       "      <td>6285.12</td>\n",
       "    </tr>\n",
       "    <tr>\n",
       "      <th>2</th>\n",
       "      <td>2002</td>\n",
       "      <td>12</td>\n",
       "      <td>8431.54</td>\n",
       "    </tr>\n",
       "    <tr>\n",
       "      <th>3</th>\n",
       "      <td>2003</td>\n",
       "      <td>12</td>\n",
       "      <td>10444.97</td>\n",
       "    </tr>\n",
       "    <tr>\n",
       "      <th>4</th>\n",
       "      <td>2004</td>\n",
       "      <td>12</td>\n",
       "      <td>13929.13</td>\n",
       "    </tr>\n",
       "  </tbody>\n",
       "</table>\n",
       "</div>"
      ],
      "text/plain": [
       "    ano  meses_unicos  soma_preco_petroleo\n",
       "0  2000            12              7251.15\n",
       "1  2001            12              6285.12\n",
       "2  2002            12              8431.54\n",
       "3  2003            12             10444.97\n",
       "4  2004            12             13929.13"
      ]
     },
     "execution_count": 51,
     "metadata": {},
     "output_type": "execute_result"
    }
   ],
   "source": [
    "dados_limpos = contagem_meses_por_ano[contagem_meses_por_ano['ano']>=2000].reset_index(drop=True)\n",
    "dados_limpos.head()"
   ]
  },
  {
   "cell_type": "code",
   "execution_count": 249,
   "metadata": {},
   "outputs": [
    {
     "name": "stderr",
     "output_type": "stream",
     "text": [
      "C:\\Users\\tamir\\AppData\\Local\\Temp\\ipykernel_23224\\2515913722.py:2: FutureWarning: \n",
      "\n",
      "Passing `palette` without assigning `hue` is deprecated and will be removed in v0.14.0. Assign the `x` variable to `hue` and set `legend=False` for the same effect.\n",
      "\n",
      "  ax = sns.barplot(x='ano', y='soma_preco_petroleo', data=dados_limpos, palette='cividis')\n"
     ]
    },
    {
     "data": {
      "image/png": "[encoded data removed]",
      "text/plain": [
       "<Figure size 1000x600 with 1 Axes>"
      ]
     },
     "metadata": {},
     "output_type": "display_data"
    }
   ],
   "source": [
    "plt.figure(figsize=(10, 6))  # Ajusta o tamanho da figura\n",
    "ax = sns.barplot(x='ano', y='soma_preco_petroleo', data=dados_limpos, palette='cividis')\n",
    "\n",
    "# Adiciona título e rótulos dos eixos\n",
    "plt.title('Preço por barril de Petróleo por Ano', fontsize=14)\n",
    "plt.xlabel('preço do barril ($)', fontsize=12)\n",
    "plt.ylabel('Ano', fontsize=12)\n",
    "\n",
    "# Ajusta a rotação dos valores no eixo x\n",
    "plt.xticks(rotation=45\n",
    "           )  # Define rotação de 0 graus\n",
    "\n",
    "plt.tight_layout()  # Ajusta o layout\n",
    "plt.show()"
   ]
  },
  {
   "cell_type": "markdown",
   "metadata": {},
   "source": [
    "Dessa forma, podemos realizar uma análise mais direta e focada nos valores, o que nos permitirá fazer previsões mais precisas e realistas com base nos dados disponíveis. No entanto, é fundamental prestar atenção em eventos específicos que impactaram significativamente os preços, como os anos de 2008, 2011, 2012 e 2013. Durante esses anos, observamos um crescimento acentuado que se destaca em comparação com outros períodos, o que sugere a presença de fatores externos ou mudanças no mercado que precisam ser compreendidos.\n",
    "\n",
    "Além disso, o ano de 2020 também merece uma análise detalhada, pois registrou uma queda significativa nos preços. Essa redução pode estar relacionada a eventos globais, como a pandemia de COVID-19, que afetou economias e mercados de diversas maneiras.\n",
    "\n",
    "Ao investigar esses anos críticos, não apenas ganhamos uma visão mais clara das tendências de preços, mas também podemos identificar padrões e causas subjacentes que poderão ser essenciais para nossas previsões futuras. A compreensão desses contextos históricos nos permitirá desenvolver modelos preditivos mais robustos e informados.\n"
   ]
  },
  {
   "cell_type": "markdown",
   "metadata": {},
   "source": [
    "## Passo 4: Complementando a análise com dados externos\n",
    "\n",
    "Para enriquecer sua análise, busque dados externos relevantes que possam influenciar o preço do petróleo Brent. Por exemplo, você pode procurar dados sobre produção global de petróleo, eventos geopolíticos, crises econômicas, demanda global por energia, entre outros. Integre esses dados à sua análise e avalie como eles se relacionam com a variação do preço do barril de petróleo Brent ao longo do tempo.\n",
    "\n"
   ]
  },
  {
   "cell_type": "code",
   "execution_count": 131,
   "metadata": {},
   "outputs": [
    {
     "name": "stdout",
     "output_type": "stream",
     "text": [
      "Requirement already satisfied: openpyxl in c:\\users\\tamir\\appdata\\local\\programs\\python\\python310\\lib\\site-packages (3.1.5)\n",
      "Requirement already satisfied: et-xmlfile in c:\\users\\tamir\\appdata\\local\\programs\\python\\python310\\lib\\site-packages (from openpyxl) (2.0.0)\n",
      "Note: you may need to restart the kernel to use updated packages.\n"
     ]
    },
    {
     "name": "stderr",
     "output_type": "stream",
     "text": [
      "\n",
      "[notice] A new release of pip is available: 23.0.1 -> 24.3.1\n",
      "[notice] To update, run: python.exe -m pip install --upgrade pip\n"
     ]
    }
   ],
   "source": [
    "pip install openpyxl"
   ]
  },
  {
   "cell_type": "code",
   "execution_count": 156,
   "metadata": {},
   "outputs": [],
   "source": [
    "producao = pd.read_excel(\"C:\\\\Users\\\\tamir\\\\OneDrive\\\\Área de Trabalho\\\\producao.xlsx\")"
   ]
  },
  {
   "cell_type": "code",
   "execution_count": 157,
   "metadata": {},
   "outputs": [
    {
     "data": {
      "text/html": [
       "<div>\n",
       "<style scoped>\n",
       "    .dataframe tbody tr th:only-of-type {\n",
       "        vertical-align: middle;\n",
       "    }\n",
       "\n",
       "    .dataframe tbody tr th {\n",
       "        vertical-align: top;\n",
       "    }\n",
       "\n",
       "    .dataframe thead th {\n",
       "        text-align: right;\n",
       "    }\n",
       "</style>\n",
       "<table border=\"1\" class=\"dataframe\">\n",
       "  <thead>\n",
       "    <tr style=\"text-align: right;\">\n",
       "      <th></th>\n",
       "      <th>year</th>\n",
       "      <th>barrels per year</th>\n",
       "      <th>country</th>\n",
       "    </tr>\n",
       "  </thead>\n",
       "  <tbody>\n",
       "    <tr>\n",
       "      <th>0</th>\n",
       "      <td>2000</td>\n",
       "      <td>5.7</td>\n",
       "      <td>Albania</td>\n",
       "    </tr>\n",
       "    <tr>\n",
       "      <th>1</th>\n",
       "      <td>2001</td>\n",
       "      <td>5.6</td>\n",
       "      <td>Albania</td>\n",
       "    </tr>\n",
       "    <tr>\n",
       "      <th>2</th>\n",
       "      <td>2002</td>\n",
       "      <td>7.1</td>\n",
       "      <td>Albania</td>\n",
       "    </tr>\n",
       "    <tr>\n",
       "      <th>3</th>\n",
       "      <td>2003</td>\n",
       "      <td>6.8</td>\n",
       "      <td>Albania</td>\n",
       "    </tr>\n",
       "    <tr>\n",
       "      <th>4</th>\n",
       "      <td>2004</td>\n",
       "      <td>7.6</td>\n",
       "      <td>Albania</td>\n",
       "    </tr>\n",
       "  </tbody>\n",
       "</table>\n",
       "</div>"
      ],
      "text/plain": [
       "   year barrels per year  country\n",
       "0  2000              5.7  Albania\n",
       "1  2001              5.6  Albania\n",
       "2  2002              7.1  Albania\n",
       "3  2003              6.8  Albania\n",
       "4  2004              7.6  Albania"
      ]
     },
     "execution_count": 157,
     "metadata": {},
     "output_type": "execute_result"
    }
   ],
   "source": [
    "producao.head()"
   ]
  },
  {
   "cell_type": "code",
   "execution_count": 158,
   "metadata": {},
   "outputs": [
    {
     "data": {
      "text/plain": [
       "(2571, 3)"
      ]
     },
     "execution_count": 158,
     "metadata": {},
     "output_type": "execute_result"
    }
   ],
   "source": [
    "producao.shape\n"
   ]
  },
  {
   "cell_type": "code",
   "execution_count": 159,
   "metadata": {},
   "outputs": [
    {
     "data": {
      "text/plain": [
       "Index(['year', 'barrels per year', 'country'], dtype='object')"
      ]
     },
     "execution_count": 159,
     "metadata": {},
     "output_type": "execute_result"
    }
   ],
   "source": [
    "producao.columns"
   ]
  },
  {
   "cell_type": "code",
   "execution_count": 160,
   "metadata": {},
   "outputs": [
    {
     "name": "stdout",
     "output_type": "stream",
     "text": [
      "['5.7' '5.6' '7.1' ... 300 286 281]\n"
     ]
    }
   ],
   "source": [
    "print(producao['barrels per year'].unique())"
   ]
  },
  {
   "cell_type": "code",
   "execution_count": 161,
   "metadata": {},
   "outputs": [],
   "source": [
    "import numpy as np\n",
    "\n",
    "# Substituir '--' por NaN\n",
    "producao['barrels per year'] = producao['barrels per year'].replace('--', 0)"
   ]
  },
  {
   "cell_type": "code",
   "execution_count": 162,
   "metadata": {},
   "outputs": [],
   "source": [
    "producao['year'] = pd.to_datetime(producao['year'], format='%Y').dt.year\n",
    "producao['barrels per year'] = producao['barrels per year'].astype(float)"
   ]
  },
  {
   "cell_type": "code",
   "execution_count": 163,
   "metadata": {},
   "outputs": [
    {
     "name": "stdout",
     "output_type": "stream",
     "text": [
      "<class 'pandas.core.frame.DataFrame'>\n",
      "RangeIndex: 2571 entries, 0 to 2570\n",
      "Data columns (total 3 columns):\n",
      " #   Column            Non-Null Count  Dtype  \n",
      "---  ------            --------------  -----  \n",
      " 0   year              2571 non-null   int32  \n",
      " 1   barrels per year  2571 non-null   float64\n",
      " 2   country           2571 non-null   object \n",
      "dtypes: float64(1), int32(1), object(1)\n",
      "memory usage: 50.3+ KB\n"
     ]
    }
   ],
   "source": [
    "producao.info()"
   ]
  },
  {
   "cell_type": "code",
   "execution_count": 164,
   "metadata": {},
   "outputs": [
    {
     "data": {
      "text/plain": [
       "array([2000, 2001, 2002, 2003, 2004, 2005, 2006, 2007, 2008, 2009, 2010,\n",
       "       2011, 2012, 2013, 2014, 2015, 2016, 2017, 2018, 2019, 2020, 2021,\n",
       "       2022, 2023], dtype=int32)"
      ]
     },
     "execution_count": 164,
     "metadata": {},
     "output_type": "execute_result"
    }
   ],
   "source": [
    "producao['year'].unique()"
   ]
  },
  {
   "cell_type": "code",
   "execution_count": 165,
   "metadata": {},
   "outputs": [
    {
     "data": {
      "text/plain": [
       "array(['Albania', 'Algeria', 'Angola', 'Argentina', 'Armenia', 'Aruba',\n",
       "       'Australia', 'Austria', 'Azerbaijan', 'Bahrain', 'Bangladesh',\n",
       "       'Barbados', 'Belarus', 'Belgium', 'Belize', 'Benin', 'Bolivia',\n",
       "       'Bosnia and Herzegovina', 'Brazil', 'Brunei', 'Bulgaria',\n",
       "       'Cameroon', 'Canada', 'Chad', 'Chile', 'China', 'Colombia',\n",
       "       'Costa Rica', 'Croatia', 'Cuba', 'Czech Republic',\n",
       "       'Democratic Republic of the Congo', 'Denmark', 'East Timor',\n",
       "       'Ecuador', 'Egypt', 'Equatorial Guinea', 'Estonia', 'Finland',\n",
       "       'France', 'Gabon', 'Georgia', 'Germany', 'Ghana', 'Greece',\n",
       "       'Guatemala', 'Guyana', 'Hungary', 'India', 'Indonesia', 'Iran',\n",
       "       'Iraq', 'Israel', 'Italy', 'Ivory Coast', 'Jamaica', 'Japan',\n",
       "       'Jordan', 'Kazakhstan', 'Kuwait', 'Latvia', 'Libya', 'Lithuania',\n",
       "       'Malaysia', 'Mongolia', 'Myanmar', 'Netherlands', 'New Zealand',\n",
       "       'Niger', 'Nigeria', 'North Korea', 'Norway', 'Oman', 'Pakistan',\n",
       "       'Papua New Guinea', 'Paraguay', 'Peru', 'Philippines', 'Poland',\n",
       "       'Portugal', 'Qatar', 'Republic of Ireland',\n",
       "       'Republic of the Congo', 'Romania', 'Russia', 'Saudi Arabia',\n",
       "       'Serbia', 'Singapore', 'Slovakia', 'South Africa', 'South Korea',\n",
       "       'South Sudan', 'Spain', 'Sudan', 'Suriname', 'Sweden',\n",
       "       'Switzerland', 'Syria', 'Taiwan', 'Tajikistan', 'Thailand',\n",
       "       'Trinidad and Tobago', 'Tunisia', 'Turkey', 'Turkmenistan',\n",
       "       'Ukraine', 'United Arab Emirates', 'United Kingdom',\n",
       "       'United States', 'United States Virgin Islands', 'Uruguay',\n",
       "       'Uzbekistan', 'Venezuela', 'Vietnam', 'Yemen', 'Zambia'],\n",
       "      dtype=object)"
      ]
     },
     "execution_count": 165,
     "metadata": {},
     "output_type": "execute_result"
    }
   ],
   "source": [
    "producao['country'].unique()"
   ]
  },
  {
   "cell_type": "code",
   "execution_count": 166,
   "metadata": {},
   "outputs": [
    {
     "data": {
      "text/plain": [
       "year  barrels per year  country       \n",
       "2023  21973.0           United States     1\n",
       "2000  0.2               Mongolia          1\n",
       "      0.4               Tajikistan        1\n",
       "      0.5               Bulgaria          1\n",
       "      0.9               Philippines       1\n",
       "                                         ..\n",
       "      7.0               Ivory Coast       1\n",
       "      7.5               Czech Republic    1\n",
       "      9.0               Chile             1\n",
       "      10.0              Suriname          1\n",
       "      12.0              Myanmar           1\n",
       "Name: count, Length: 2571, dtype: int64"
      ]
     },
     "execution_count": 166,
     "metadata": {},
     "output_type": "execute_result"
    }
   ],
   "source": [
    "# Verificando se há valores duplicados:\n",
    "producao.value_counts()\n",
    "\n",
    "# Temos valores repetidos, porem ja era esperado."
   ]
  },
  {
   "cell_type": "code",
   "execution_count": 167,
   "metadata": {},
   "outputs": [
    {
     "data": {
      "text/html": [
       "<div>\n",
       "<style scoped>\n",
       "    .dataframe tbody tr th:only-of-type {\n",
       "        vertical-align: middle;\n",
       "    }\n",
       "\n",
       "    .dataframe tbody tr th {\n",
       "        vertical-align: top;\n",
       "    }\n",
       "\n",
       "    .dataframe thead th {\n",
       "        text-align: right;\n",
       "    }\n",
       "</style>\n",
       "<table border=\"1\" class=\"dataframe\">\n",
       "  <thead>\n",
       "    <tr style=\"text-align: right;\">\n",
       "      <th></th>\n",
       "      <th>year</th>\n",
       "      <th>barrels per year</th>\n",
       "    </tr>\n",
       "  </thead>\n",
       "  <tbody>\n",
       "    <tr>\n",
       "      <th>0</th>\n",
       "      <td>2000</td>\n",
       "      <td>72047.9</td>\n",
       "    </tr>\n",
       "    <tr>\n",
       "      <th>1</th>\n",
       "      <td>2001</td>\n",
       "      <td>72079.1</td>\n",
       "    </tr>\n",
       "    <tr>\n",
       "      <th>2</th>\n",
       "      <td>2002</td>\n",
       "      <td>71891.4</td>\n",
       "    </tr>\n",
       "    <tr>\n",
       "      <th>3</th>\n",
       "      <td>2003</td>\n",
       "      <td>74586.9</td>\n",
       "    </tr>\n",
       "    <tr>\n",
       "      <th>4</th>\n",
       "      <td>2004</td>\n",
       "      <td>79177.1</td>\n",
       "    </tr>\n",
       "  </tbody>\n",
       "</table>\n",
       "</div>"
      ],
      "text/plain": [
       "   year  barrels per year\n",
       "0  2000           72047.9\n",
       "1  2001           72079.1\n",
       "2  2002           71891.4\n",
       "3  2003           74586.9\n",
       "4  2004           79177.1"
      ]
     },
     "execution_count": 167,
     "metadata": {},
     "output_type": "execute_result"
    }
   ],
   "source": [
    "producao_soma_por_ano = producao.groupby('year')['barrels per year'].sum().reset_index()\n",
    "producao_soma_por_ano.head()"
   ]
  },
  {
   "cell_type": "code",
   "execution_count": 183,
   "metadata": {},
   "outputs": [
    {
     "name": "stderr",
     "output_type": "stream",
     "text": [
      "C:\\Users\\tamir\\AppData\\Local\\Temp\\ipykernel_23224\\4054531641.py:2: FutureWarning: \n",
      "\n",
      "Passing `palette` without assigning `hue` is deprecated and will be removed in v0.14.0. Assign the `x` variable to `hue` and set `legend=False` for the same effect.\n",
      "\n",
      "  ax = sns.barplot(x='year', y='barrels per year', data=producao_soma_por_ano, palette=\"colorblind\")\n"
     ]
    },
    {
     "data": {
      "image/png": "[encoded data removed]",
      "text/plain": [
       "<Figure size 1000x600 with 1 Axes>"
      ]
     },
     "metadata": {},
     "output_type": "display_data"
    }
   ],
   "source": [
    "plt.figure(figsize=(10, 6))  # Ajusta o tamanho da figura\n",
    "ax = sns.barplot(x='year', y='barrels per year', data=producao_soma_por_ano, palette=\"colorblind\")\n",
    "\n",
    "# Adiciona título e rótulos dos eixos\n",
    "plt.title('Quantidade da produção de barrels por Ano', fontsize=14)\n",
    "plt.xlabel('Preço ($)', fontsize=12)\n",
    "plt.ylabel('Ano', fontsize=12)\n",
    "\n",
    "# Ajusta a rotação dos valores no eixo x\n",
    "plt.xticks(rotation=45\n",
    "           )  # Define rotação de 0 graus\n",
    "\n",
    "plt.tight_layout()  # Ajusta o layout\n",
    "plt.show()"
   ]
  },
  {
   "cell_type": "code",
   "execution_count": 186,
   "metadata": {},
   "outputs": [],
   "source": [
    "producao_soma_por_ano['percent_growth'] = producao_soma_por_ano['barrels per year'].pct_change() * 100"
   ]
  },
  {
   "cell_type": "code",
   "execution_count": 248,
   "metadata": {},
   "outputs": [
    {
     "data": {
      "text/html": [
       "<div>\n",
       "<style scoped>\n",
       "    .dataframe tbody tr th:only-of-type {\n",
       "        vertical-align: middle;\n",
       "    }\n",
       "\n",
       "    .dataframe tbody tr th {\n",
       "        vertical-align: top;\n",
       "    }\n",
       "\n",
       "    .dataframe thead th {\n",
       "        text-align: right;\n",
       "    }\n",
       "</style>\n",
       "<table border=\"1\" class=\"dataframe\">\n",
       "  <thead>\n",
       "    <tr style=\"text-align: right;\">\n",
       "      <th></th>\n",
       "      <th>year</th>\n",
       "      <th>barrels per year</th>\n",
       "      <th>percent_growth</th>\n",
       "    </tr>\n",
       "  </thead>\n",
       "  <tbody>\n",
       "    <tr>\n",
       "      <th>0</th>\n",
       "      <td>2000</td>\n",
       "      <td>72047.9</td>\n",
       "      <td>NaN</td>\n",
       "    </tr>\n",
       "    <tr>\n",
       "      <th>1</th>\n",
       "      <td>2001</td>\n",
       "      <td>72079.1</td>\n",
       "      <td>0.043305</td>\n",
       "    </tr>\n",
       "    <tr>\n",
       "      <th>2</th>\n",
       "      <td>2002</td>\n",
       "      <td>71891.4</td>\n",
       "      <td>-0.260408</td>\n",
       "    </tr>\n",
       "    <tr>\n",
       "      <th>3</th>\n",
       "      <td>2003</td>\n",
       "      <td>74586.9</td>\n",
       "      <td>3.749405</td>\n",
       "    </tr>\n",
       "    <tr>\n",
       "      <th>4</th>\n",
       "      <td>2004</td>\n",
       "      <td>79177.1</td>\n",
       "      <td>6.154164</td>\n",
       "    </tr>\n",
       "    <tr>\n",
       "      <th>5</th>\n",
       "      <td>2005</td>\n",
       "      <td>80755.4</td>\n",
       "      <td>1.993379</td>\n",
       "    </tr>\n",
       "    <tr>\n",
       "      <th>6</th>\n",
       "      <td>2006</td>\n",
       "      <td>81374.2</td>\n",
       "      <td>0.766265</td>\n",
       "    </tr>\n",
       "    <tr>\n",
       "      <th>7</th>\n",
       "      <td>2007</td>\n",
       "      <td>81825.1</td>\n",
       "      <td>0.554107</td>\n",
       "    </tr>\n",
       "    <tr>\n",
       "      <th>8</th>\n",
       "      <td>2008</td>\n",
       "      <td>83441.3</td>\n",
       "      <td>1.975189</td>\n",
       "    </tr>\n",
       "    <tr>\n",
       "      <th>9</th>\n",
       "      <td>2009</td>\n",
       "      <td>82562.0</td>\n",
       "      <td>-1.053795</td>\n",
       "    </tr>\n",
       "    <tr>\n",
       "      <th>10</th>\n",
       "      <td>2010</td>\n",
       "      <td>84169.2</td>\n",
       "      <td>1.946658</td>\n",
       "    </tr>\n",
       "    <tr>\n",
       "      <th>11</th>\n",
       "      <td>2011</td>\n",
       "      <td>85354.9</td>\n",
       "      <td>1.408710</td>\n",
       "    </tr>\n",
       "    <tr>\n",
       "      <th>12</th>\n",
       "      <td>2012</td>\n",
       "      <td>87667.2</td>\n",
       "      <td>2.709042</td>\n",
       "    </tr>\n",
       "    <tr>\n",
       "      <th>13</th>\n",
       "      <td>2013</td>\n",
       "      <td>88221.7</td>\n",
       "      <td>0.632506</td>\n",
       "    </tr>\n",
       "    <tr>\n",
       "      <th>14</th>\n",
       "      <td>2014</td>\n",
       "      <td>90896.4</td>\n",
       "      <td>3.031794</td>\n",
       "    </tr>\n",
       "    <tr>\n",
       "      <th>15</th>\n",
       "      <td>2015</td>\n",
       "      <td>93879.0</td>\n",
       "      <td>3.281318</td>\n",
       "    </tr>\n",
       "    <tr>\n",
       "      <th>16</th>\n",
       "      <td>2016</td>\n",
       "      <td>94479.0</td>\n",
       "      <td>0.639121</td>\n",
       "    </tr>\n",
       "    <tr>\n",
       "      <th>17</th>\n",
       "      <td>2017</td>\n",
       "      <td>95414.5</td>\n",
       "      <td>0.990167</td>\n",
       "    </tr>\n",
       "    <tr>\n",
       "      <th>18</th>\n",
       "      <td>2018</td>\n",
       "      <td>98197.0</td>\n",
       "      <td>2.916223</td>\n",
       "    </tr>\n",
       "    <tr>\n",
       "      <th>19</th>\n",
       "      <td>2019</td>\n",
       "      <td>98090.9</td>\n",
       "      <td>-0.108048</td>\n",
       "    </tr>\n",
       "    <tr>\n",
       "      <th>20</th>\n",
       "      <td>2020</td>\n",
       "      <td>91737.8</td>\n",
       "      <td>-6.476748</td>\n",
       "    </tr>\n",
       "    <tr>\n",
       "      <th>21</th>\n",
       "      <td>2021</td>\n",
       "      <td>93618.3</td>\n",
       "      <td>2.049864</td>\n",
       "    </tr>\n",
       "    <tr>\n",
       "      <th>22</th>\n",
       "      <td>2022</td>\n",
       "      <td>98017.5</td>\n",
       "      <td>4.699081</td>\n",
       "    </tr>\n",
       "    <tr>\n",
       "      <th>23</th>\n",
       "      <td>2023</td>\n",
       "      <td>99882.6</td>\n",
       "      <td>1.902823</td>\n",
       "    </tr>\n",
       "  </tbody>\n",
       "</table>\n",
       "</div>"
      ],
      "text/plain": [
       "    year  barrels per year  percent_growth\n",
       "0   2000           72047.9             NaN\n",
       "1   2001           72079.1        0.043305\n",
       "2   2002           71891.4       -0.260408\n",
       "3   2003           74586.9        3.749405\n",
       "4   2004           79177.1        6.154164\n",
       "5   2005           80755.4        1.993379\n",
       "6   2006           81374.2        0.766265\n",
       "7   2007           81825.1        0.554107\n",
       "8   2008           83441.3        1.975189\n",
       "9   2009           82562.0       -1.053795\n",
       "10  2010           84169.2        1.946658\n",
       "11  2011           85354.9        1.408710\n",
       "12  2012           87667.2        2.709042\n",
       "13  2013           88221.7        0.632506\n",
       "14  2014           90896.4        3.031794\n",
       "15  2015           93879.0        3.281318\n",
       "16  2016           94479.0        0.639121\n",
       "17  2017           95414.5        0.990167\n",
       "18  2018           98197.0        2.916223\n",
       "19  2019           98090.9       -0.108048\n",
       "20  2020           91737.8       -6.476748\n",
       "21  2021           93618.3        2.049864\n",
       "22  2022           98017.5        4.699081\n",
       "23  2023           99882.6        1.902823"
      ]
     },
     "execution_count": 248,
     "metadata": {},
     "output_type": "execute_result"
    }
   ],
   "source": [
    "producao_soma_por_ano.head(25)"
   ]
  },
  {
   "cell_type": "code",
   "execution_count": 196,
   "metadata": {},
   "outputs": [
    {
     "data": {
      "image/png": "[encoded data removed]",
      "text/plain": [
       "<Figure size 1000x600 with 1 Axes>"
      ]
     },
     "metadata": {},
     "output_type": "display_data"
    }
   ],
   "source": [
    "sns.set(style=\"whitegrid\")\n",
    "\n",
    "# Cria um gráfico de linha para a porcentagem de crescimento\n",
    "plt.figure(figsize=(10, 6))\n",
    "sns.lineplot(x='year', y='percent_growth', data=producao_soma_por_ano, marker='o', color='orange')\n",
    "\n",
    "# Configura os rótulos e título\n",
    "plt.xlabel('Ano')\n",
    "plt.ylabel('Crescimento Percentual (%)')\n",
    "plt.title('Crescimento Percentual de Produção de Barris por Ano')\n",
    "\n",
    "# Exibe o gráfico\n",
    "plt.axhline(0, color='gray', linestyle='--')  # Linha horizontal no 0 para referência\n",
    "plt.show()"
   ]
  },
  {
   "cell_type": "markdown",
   "metadata": {},
   "source": [
    "\n",
    "O gráfico da produção anual de barris de petróleo ao longo dos anos de 2000 a 2023, acompanhada da taxa de crescimento percentual anual. A análise dos dados oferece insights importantes sobre as flutuações no setor de petróleo, bem como sobre o impacto de eventos globais específicos na produção.\n",
    "\n",
    "Estabilidade Inicial (2000–2002): Entre 2000 e 2002, a produção de petróleo manteve-se estável, com oscilações muito pequenas, como o crescimento marginal de 0,04% em 2001 e uma leve queda de 0,26% em 2002.\n",
    "\n",
    "Período de Crescimento Moderado (2003–2008): De 2003 a 2008, a produção apresentou um crescimento constante, especialmente notável em 2004 (6,15%), refletindo um aumento na demanda global impulsionado pelo crescimento econômico em várias regiões, especialmente na Ásia.\n",
    "\n",
    "Crise Econômica Global (2009): Em 2009, observa-se uma queda de -1,05% na produção, refletindo o impacto da crise econômica global de 2008-2009, que reduziu a demanda e afetou a produção e os preços do petróleo.\n",
    "\n",
    "Recuperação e Crescimento (2010–2019): Após a crise, a produção volta a crescer, apresentando valores consistentes de aumento na maioria dos anos, com destaques como 2015 (3,28%) e 2018 (2,92%). Esse período reflete o fortalecimento da economia global e a recuperação da demanda por petróleo.\n",
    "\n",
    "Impacto da Pandemia (2020): Em 2020, há uma queda expressiva de -6,48% na produção, a maior de toda a série, devido à pandemia de COVID-19, que levou a uma redução drástica na demanda por petróleo e no consumo global de energia.\n",
    "\n",
    "Recuperação Pós-Pandemia (2021–2023): A partir de 2021, a produção retoma um crescimento moderado. Em 2022, destaca-se uma recuperação significativa de 4,69%, com a demanda global voltando aos níveis pré-pandêmicos. Em 2023, o crescimento continua, embora em um ritmo mais moderado (1,9%)."
   ]
  },
  {
   "cell_type": "code",
   "execution_count": null,
   "metadata": {},
   "outputs": [],
   "source": []
  },
  {
   "cell_type": "code",
   "execution_count": 168,
   "metadata": {},
   "outputs": [
    {
     "data": {
      "text/html": [
       "<div>\n",
       "<style scoped>\n",
       "    .dataframe tbody tr th:only-of-type {\n",
       "        vertical-align: middle;\n",
       "    }\n",
       "\n",
       "    .dataframe tbody tr th {\n",
       "        vertical-align: top;\n",
       "    }\n",
       "\n",
       "    .dataframe thead th {\n",
       "        text-align: right;\n",
       "    }\n",
       "</style>\n",
       "<table border=\"1\" class=\"dataframe\">\n",
       "  <thead>\n",
       "    <tr style=\"text-align: right;\">\n",
       "      <th></th>\n",
       "      <th>country</th>\n",
       "      <th>barrels per year</th>\n",
       "    </tr>\n",
       "  </thead>\n",
       "  <tbody>\n",
       "    <tr>\n",
       "      <th>0</th>\n",
       "      <td>Albania</td>\n",
       "      <td>308.3</td>\n",
       "    </tr>\n",
       "    <tr>\n",
       "      <th>1</th>\n",
       "      <td>Algeria</td>\n",
       "      <td>40983.0</td>\n",
       "    </tr>\n",
       "    <tr>\n",
       "      <th>2</th>\n",
       "      <td>Angola</td>\n",
       "      <td>34806.0</td>\n",
       "    </tr>\n",
       "    <tr>\n",
       "      <th>3</th>\n",
       "      <td>Argentina</td>\n",
       "      <td>18661.0</td>\n",
       "    </tr>\n",
       "    <tr>\n",
       "      <th>4</th>\n",
       "      <td>Armenia</td>\n",
       "      <td>0.0</td>\n",
       "    </tr>\n",
       "    <tr>\n",
       "      <th>5</th>\n",
       "      <td>Aruba</td>\n",
       "      <td>19.6</td>\n",
       "    </tr>\n",
       "    <tr>\n",
       "      <th>6</th>\n",
       "      <td>Australia</td>\n",
       "      <td>12444.0</td>\n",
       "    </tr>\n",
       "    <tr>\n",
       "      <th>7</th>\n",
       "      <td>Austria</td>\n",
       "      <td>647.0</td>\n",
       "    </tr>\n",
       "    <tr>\n",
       "      <th>8</th>\n",
       "      <td>Azerbaijan</td>\n",
       "      <td>16828.0</td>\n",
       "    </tr>\n",
       "    <tr>\n",
       "      <th>9</th>\n",
       "      <td>Bahrain</td>\n",
       "      <td>4819.0</td>\n",
       "    </tr>\n",
       "    <tr>\n",
       "      <th>10</th>\n",
       "      <td>Bangladesh</td>\n",
       "      <td>194.9</td>\n",
       "    </tr>\n",
       "    <tr>\n",
       "      <th>11</th>\n",
       "      <td>Barbados</td>\n",
       "      <td>23.2</td>\n",
       "    </tr>\n",
       "    <tr>\n",
       "      <th>12</th>\n",
       "      <td>Belarus</td>\n",
       "      <td>804.0</td>\n",
       "    </tr>\n",
       "    <tr>\n",
       "      <th>13</th>\n",
       "      <td>Belgium</td>\n",
       "      <td>375.7</td>\n",
       "    </tr>\n",
       "    <tr>\n",
       "      <th>14</th>\n",
       "      <td>Belize</td>\n",
       "      <td>36.3</td>\n",
       "    </tr>\n",
       "    <tr>\n",
       "      <th>15</th>\n",
       "      <td>Benin</td>\n",
       "      <td>0.0</td>\n",
       "    </tr>\n",
       "    <tr>\n",
       "      <th>16</th>\n",
       "      <td>Bolivia</td>\n",
       "      <td>1368.0</td>\n",
       "    </tr>\n",
       "    <tr>\n",
       "      <th>17</th>\n",
       "      <td>Bosnia and Herzegovina</td>\n",
       "      <td>2.3</td>\n",
       "    </tr>\n",
       "    <tr>\n",
       "      <th>18</th>\n",
       "      <td>Brazil</td>\n",
       "      <td>63811.0</td>\n",
       "    </tr>\n",
       "    <tr>\n",
       "      <th>19</th>\n",
       "      <td>Brunei</td>\n",
       "      <td>3697.0</td>\n",
       "    </tr>\n",
       "  </tbody>\n",
       "</table>\n",
       "</div>"
      ],
      "text/plain": [
       "                   country  barrels per year\n",
       "0                  Albania             308.3\n",
       "1                  Algeria           40983.0\n",
       "2                   Angola           34806.0\n",
       "3                Argentina           18661.0\n",
       "4                  Armenia               0.0\n",
       "5                    Aruba              19.6\n",
       "6                Australia           12444.0\n",
       "7                  Austria             647.0\n",
       "8               Azerbaijan           16828.0\n",
       "9                  Bahrain            4819.0\n",
       "10              Bangladesh             194.9\n",
       "11                Barbados              23.2\n",
       "12                 Belarus             804.0\n",
       "13                 Belgium             375.7\n",
       "14                  Belize              36.3\n",
       "15                   Benin               0.0\n",
       "16                 Bolivia            1368.0\n",
       "17  Bosnia and Herzegovina               2.3\n",
       "18                  Brazil           63811.0\n",
       "19                  Brunei            3697.0"
      ]
     },
     "execution_count": 168,
     "metadata": {},
     "output_type": "execute_result"
    }
   ],
   "source": [
    "producao_soma_por_pais = producao.groupby('country')['barrels per year'].sum().reset_index()\n",
    "producao_soma_por_pais.head(20)"
   ]
  },
  {
   "cell_type": "code",
   "execution_count": 169,
   "metadata": {},
   "outputs": [
    {
     "name": "stdout",
     "output_type": "stream",
     "text": [
      "Número de valores zerados: 2\n"
     ]
    }
   ],
   "source": [
    "valores_zerados = (producao_soma_por_pais['barrels per year'] == 0).sum()\n",
    "print(f\"Número de valores zerados: {valores_zerados}\")\n"
   ]
  },
  {
   "cell_type": "code",
   "execution_count": 171,
   "metadata": {},
   "outputs": [],
   "source": [
    "producao_soma_por_pais = producao_soma_por_pais[producao_soma_por_pais['barrels per year'] != 0]"
   ]
  },
  {
   "cell_type": "code",
   "execution_count": 239,
   "metadata": {},
   "outputs": [
    {
     "data": {
      "text/html": [
       "<div>\n",
       "<style scoped>\n",
       "    .dataframe tbody tr th:only-of-type {\n",
       "        vertical-align: middle;\n",
       "    }\n",
       "\n",
       "    .dataframe tbody tr th {\n",
       "        vertical-align: top;\n",
       "    }\n",
       "\n",
       "    .dataframe thead th {\n",
       "        text-align: right;\n",
       "    }\n",
       "</style>\n",
       "<table border=\"1\" class=\"dataframe\">\n",
       "  <thead>\n",
       "    <tr style=\"text-align: right;\">\n",
       "      <th></th>\n",
       "      <th>country</th>\n",
       "      <th>barrels per year</th>\n",
       "    </tr>\n",
       "  </thead>\n",
       "  <tbody>\n",
       "    <tr>\n",
       "      <th>108</th>\n",
       "      <td>United States</td>\n",
       "      <td>307914.0</td>\n",
       "    </tr>\n",
       "    <tr>\n",
       "      <th>85</th>\n",
       "      <td>Saudi Arabia</td>\n",
       "      <td>259531.0</td>\n",
       "    </tr>\n",
       "    <tr>\n",
       "      <th>84</th>\n",
       "      <td>Russia</td>\n",
       "      <td>241077.0</td>\n",
       "    </tr>\n",
       "    <tr>\n",
       "      <th>25</th>\n",
       "      <td>China</td>\n",
       "      <td>105279.0</td>\n",
       "    </tr>\n",
       "    <tr>\n",
       "      <th>22</th>\n",
       "      <td>Canada</td>\n",
       "      <td>97562.0</td>\n",
       "    </tr>\n",
       "    <tr>\n",
       "      <th>50</th>\n",
       "      <td>Iran</td>\n",
       "      <td>94040.0</td>\n",
       "    </tr>\n",
       "    <tr>\n",
       "      <th>106</th>\n",
       "      <td>United Arab Emirates</td>\n",
       "      <td>79722.0</td>\n",
       "    </tr>\n",
       "    <tr>\n",
       "      <th>51</th>\n",
       "      <td>Iraq</td>\n",
       "      <td>75532.0</td>\n",
       "    </tr>\n",
       "    <tr>\n",
       "      <th>18</th>\n",
       "      <td>Brazil</td>\n",
       "      <td>63811.0</td>\n",
       "    </tr>\n",
       "    <tr>\n",
       "      <th>59</th>\n",
       "      <td>Kuwait</td>\n",
       "      <td>63108.0</td>\n",
       "    </tr>\n",
       "  </tbody>\n",
       "</table>\n",
       "</div>"
      ],
      "text/plain": [
       "                  country  barrels per year\n",
       "108         United States          307914.0\n",
       "85           Saudi Arabia          259531.0\n",
       "84                 Russia          241077.0\n",
       "25                  China          105279.0\n",
       "22                 Canada           97562.0\n",
       "50                   Iran           94040.0\n",
       "106  United Arab Emirates           79722.0\n",
       "51                   Iraq           75532.0\n",
       "18                 Brazil           63811.0\n",
       "59                 Kuwait           63108.0"
      ]
     },
     "execution_count": 239,
     "metadata": {},
     "output_type": "execute_result"
    }
   ],
   "source": [
    "top_10_paises = producao_soma_por_pais.nlargest(10, 'barrels per year')\n",
    "top_10_paises.head(10)"
   ]
  },
  {
   "cell_type": "code",
   "execution_count": 203,
   "metadata": {},
   "outputs": [
    {
     "name": "stderr",
     "output_type": "stream",
     "text": [
      "C:\\Users\\tamir\\AppData\\Local\\Temp\\ipykernel_23224\\1229225261.py:2: FutureWarning: \n",
      "\n",
      "Passing `palette` without assigning `hue` is deprecated and will be removed in v0.14.0. Assign the `x` variable to `hue` and set `legend=False` for the same effect.\n",
      "\n",
      "  ax = sns.barplot(x='country', y='barrels per year', data=top_10_paises, palette=\"colorblind\")\n"
     ]
    },
    {
     "data": {
      "image/png": "[encoded data removed]",
      "text/plain": [
       "<Figure size 1600x800 with 1 Axes>"
      ]
     },
     "metadata": {},
     "output_type": "display_data"
    }
   ],
   "source": [
    "plt.figure(figsize=(16, 8))  # Ajusta o tamanho da figura\n",
    "ax = sns.barplot(x='country', y='barrels per year', data=top_10_paises, palette=\"colorblind\")\n",
    "\n",
    "# Adiciona título e rótulos dos eixos\n",
    "plt.title('Top 10 Países na Produção de Barris por Ano', fontsize=14)\n",
    "plt.xlabel('País', fontsize=12)\n",
    "plt.ylabel('Produção de Barris por Ano', fontsize=12)\n",
    "\n",
    "# Ajusta a rotação dos valores no eixo x\n",
    "plt.xticks(rotation=45)\n",
    "\n",
    "# Adiciona anotações dos valores em cada barra\n",
    "for p in ax.patches:\n",
    "    ax.annotate(f'{p.get_height():,.0f}',  # Formata o valor com vírgulas\n",
    "                (p.get_x() + p.get_width() / 2., p.get_height()),  # Posição da anotação\n",
    "                ha='center', va='bottom', fontsize=10)  # Alinhamento e tamanho da fonte\n",
    "\n",
    "plt.tight_layout()  # Ajusta o layout\n",
    "plt.show()"
   ]
  },
  {
   "cell_type": "markdown",
   "metadata": {},
   "source": [
    "\n",
    "Os dados apresentados mostram a produção de petróleo em barris por ano para os principais países produtores, destacando o domínio de algumas nações no setor.\n",
    "\n",
    "Estados Unidos lidera a produção global com 307.914 milhões de barris anuais, refletindo sua posição consolidada como principal produtor mundial. A capacidade de extração dos EUA se apoia em avanços tecnológicos, como o fraturamento hidráulico (fracking), que aumentou significativamente a produção nas últimas décadas.\n",
    "\n",
    "Arábia Saudita ocupa o segundo lugar, com 259.531 milhões de barris, impulsionada por suas vastas reservas no Oriente Médio e pelo papel central que desempenha na Organização dos Países Exportadores de Petróleo (OPEP).\n",
    "\n",
    "Rússia, em terceiro, com 241.077 milhões de barris, também desempenha um papel fundamental no mercado global de petróleo, fornecendo uma quantidade significativa para a Europa e a Ásia.\n",
    "\n",
    "China e Canadá produzem 105.279 milhões e 97.562 milhões de barris, respectivamente. A China, embora seja um grande consumidor de petróleo, possui também uma produção significativa. O Canadá, por sua vez, conta com reservas consideráveis de petróleo, especialmente nas areias betuminosas de Alberta.\n",
    "\n",
    "Outros países notáveis incluem o Irã (94.040 milhões), que enfrenta desafios devido a sanções econômicas, e os Emirados Árabes Unidos (79.722 milhões), que são conhecidos por suas reservas abundantes e política energética de expansão.\n",
    "\n",
    "Iraque (75.532 milhões), Brasil (63.811 milhões), e Kuwait (63.108 milhões) completam a lista, cada um com um papel relevante na produção global. O Brasil, o único país da América Latina na lista, destaca-se pela exploração de petróleo em águas profundas, como na região do pré-sal.\n",
    "\n",
    "Esses dados sublinham a importância estratégica do petróleo para cada uma dessas economias e evidenciam as diferenças na capacidade de produção entre os países, influenciando o mercado energético global."
   ]
  },
  {
   "cell_type": "code",
   "execution_count": 222,
   "metadata": {},
   "outputs": [
    {
     "name": "stdout",
     "output_type": "stream",
     "text": [
      "    country  year  barrels per year\n",
      "0   Ukraine  2000              82.0\n",
      "1   Ukraine  2001              82.0\n",
      "2   Ukraine  2002              83.0\n",
      "3   Ukraine  2003              87.0\n",
      "4   Ukraine  2004              95.0\n",
      "5   Ukraine  2005              98.0\n",
      "6   Ukraine  2006             106.0\n",
      "7   Ukraine  2007             106.0\n",
      "8   Ukraine  2008              99.0\n",
      "9   Ukraine  2009              93.0\n",
      "10  Ukraine  2010              82.0\n",
      "11  Ukraine  2011              78.0\n",
      "12  Ukraine  2012              80.0\n",
      "13  Ukraine  2013              74.0\n",
      "14  Ukraine  2014              65.0\n",
      "15  Ukraine  2015              60.0\n",
      "16  Ukraine  2016              57.0\n",
      "17  Ukraine  2017              56.0\n",
      "18  Ukraine  2018              58.0\n",
      "19  Ukraine  2019              62.0\n",
      "20  Ukraine  2020              61.0\n",
      "21  Ukraine  2021              62.0\n",
      "22  Ukraine  2022              18.0\n",
      "23  Ukraine  2023               7.2\n"
     ]
    }
   ],
   "source": [
    "# Filtra os dados para incluir apenas Ucrânia e Rússia\n",
    "df_filtrado = producao[producao['country'].isin(['Ukraine'])]\n",
    "\n",
    "# Agrupa os dados pelo país e ano, somando a produção de barris por ano\n",
    "df_1 = df_filtrado.groupby(['country', 'year'])['barrels per year'].sum().reset_index()\n",
    "\n",
    "# Exibe o DataFrame resultante\n",
    "print(df_1)\n"
   ]
  },
  {
   "cell_type": "code",
   "execution_count": null,
   "metadata": {},
   "outputs": [
    {
     "name": "stderr",
     "output_type": "stream",
     "text": [
      "C:\\Users\\tamir\\AppData\\Local\\Temp\\ipykernel_23224\\3844320692.py:2: FutureWarning: \n",
      "\n",
      "Passing `palette` without assigning `hue` is deprecated and will be removed in v0.14.0. Assign the `x` variable to `hue` and set `legend=False` for the same effect.\n",
      "\n",
      "  sns.barplot(x='year', y='barrels per year', data=df_1, palette=\"cividis\")\n"
     ]
    },
    {
     "data": {
      "image/png": "[encoded data removed]",
      "text/plain": [
       "<Figure size 1000x600 with 1 Axes>"
      ]
     },
     "metadata": {},
     "output_type": "display_data"
    }
   ],
   "source": [
    "\n",
    "plt.figure(figsize=(10, 6))\n",
    "sns.barplot(x='year', y='barrels per year', data=df_1, palette=\"cividis\")\n",
    "\n",
    "# Configura os rótulos e título\n",
    "plt.xlabel('Ano')\n",
    "plt.ylabel('Quantidade de Barris')\n",
    "plt.title('Produção de Petróleo por Ano na Ucrânia')\n",
    "\n",
    "# Ajusta a rotação dos valores no eixo x\n",
    "plt.xticks(rotation=45)\n",
    "\n",
    "# Adiciona anotações dos valores em cada barra\n",
    "for p in ax.patches:\n",
    "    ax.annotate(f'{p.get_height():,.0f}',  # Formata o valor com vírgulas\n",
    "                (p.get_x() + p.get_width() / 2., p.get_height()),  # Posição da anotação\n",
    "                ha='center', va='bottom', fontsize=10)  # Alinhamento e tamanho da fonte\n",
    "\n",
    "plt.tight_layout()  # Ajusta o layout\n",
    "plt.show()\n"
   ]
  },
  {
   "cell_type": "markdown",
   "metadata": {},
   "source": [
    "Os conflitos entre a Ucrânia e a Rússia têm raízes históricas profundas, mas os eventos mais recentes que escalaram para um conflito armado começaram em 2014. Aqui estão os principais marcos:\n",
    "\n",
    "* 2014: A crise começou em fevereiro de 2014, quando a Rússia anexou a Crimeia, uma península da Ucrânia. Isso ocorreu após a deposição do presidente ucraniano Viktor Yanukovych, que era pró-Rússia.\n",
    "\n",
    "* Conflito no Leste da Ucrânia: Após a anexação da Crimeia, começaram os combates no leste da Ucrânia, onde grupos separatistas prorrussos declararam independência nas regiões de Donetsk e Luhansk. Este conflito resultou em uma guerra que continua até hoje.\n",
    "\n",
    "* Escalada em 2021-2022: Em 2021, tensões aumentaram novamente com uma concentração significativa de tropas russas na fronteira com a Ucrânia. Em fevereiro de 2022, a Rússia lançou uma invasão em grande escala da Ucrânia, intensificando o conflito de forma dramática."
   ]
  },
  {
   "cell_type": "markdown",
   "metadata": {},
   "source": [
    "\n",
    "Ao analisar o gráfico, é evidente uma drástica queda na produção de petróleo na Ucrânia em 2022. Essa diminuição acentuada pode ser atribuída diretamente à guerra em curso, que começou em fevereiro daquele ano com a invasão russa.\n",
    "\n",
    "A guerra impactou significativamente a infraestrutura do país, resultando em interrupções na produção e nas operações econômicas. As instalações de extração de petróleo, que são vitais para a economia ucraniana, enfrentaram desafios devido aos combates e à instabilidade na região. Além disso, a instabilidade política e as sanções internacionais contribuíram para a retração da produção.\n",
    "\n",
    "Em resumo, a análise dos dados não apenas reflete a realidade econômica da Ucrânia durante um período de conflito, mas também destaca como situações geopolíticas podem ter consequências diretas na produção de recursos naturais e, por extensão, na economia de um país. Essa queda na produção é um indicador importante das dificuldades enfrentadas pela Ucrânia em tempos de guerra e ressalta a importância de monitorar eventos geopolíticos ao analisar dados econômicos."
   ]
  },
  {
   "cell_type": "code",
   "execution_count": 235,
   "metadata": {},
   "outputs": [
    {
     "name": "stdout",
     "output_type": "stream",
     "text": [
      "   country  year  barrels per year\n",
      "0   Russia  2000            6527.0\n",
      "1   Russia  2001            7061.0\n",
      "2   Russia  2002            7741.0\n",
      "3   Russia  2003            8581.0\n",
      "4   Russia  2004            9387.0\n",
      "5   Russia  2005            9647.0\n",
      "6   Russia  2006            9734.0\n",
      "7   Russia  2007           10038.0\n",
      "8   Russia  2008            9874.0\n",
      "9   Russia  2009           10047.0\n",
      "10  Russia  2010           10288.0\n",
      "11  Russia  2011           10409.0\n",
      "12  Russia  2012           10596.0\n",
      "13  Russia  2013           10766.0\n",
      "14  Russia  2014           10853.0\n",
      "15  Russia  2015           11035.0\n",
      "16  Russia  2016           11245.0\n",
      "17  Russia  2017           11231.0\n",
      "18  Russia  2018           11385.0\n",
      "19  Russia  2019           11474.0\n",
      "20  Russia  2020           10496.0\n",
      "21  Russia  2021           10777.0\n",
      "22  Russia  2022           10978.0\n",
      "23  Russia  2023           10907.0\n"
     ]
    }
   ],
   "source": [
    "# Filtra os dados para incluir apenas Ucrânia e Rússia\n",
    "df_filtrado_1 = producao[producao['country'].isin(['Russia'])]\n",
    "\n",
    "# Agrupa os dados pelo país e ano, somando a produção de barris por ano\n",
    "df_2 = df_filtrado_1.groupby(['country', 'year'])['barrels per year'].sum().reset_index()\n",
    "\n",
    "# Exibe o DataFrame resultante\n",
    "print(df_2)"
   ]
  },
  {
   "cell_type": "code",
   "execution_count": 236,
   "metadata": {},
   "outputs": [
    {
     "name": "stderr",
     "output_type": "stream",
     "text": [
      "C:\\Users\\tamir\\AppData\\Local\\Temp\\ipykernel_23224\\720372221.py:2: FutureWarning: \n",
      "\n",
      "Passing `palette` without assigning `hue` is deprecated and will be removed in v0.14.0. Assign the `x` variable to `hue` and set `legend=False` for the same effect.\n",
      "\n",
      "  sns.barplot(x='year', y='barrels per year', data=df_2, palette=\"cividis\")\n"
     ]
    },
    {
     "data": {
      "image/png": "[encoded data removed]",
      "text/plain": [
       "<Figure size 1000x600 with 1 Axes>"
      ]
     },
     "metadata": {},
     "output_type": "display_data"
    }
   ],
   "source": [
    "\n",
    "plt.figure(figsize=(10, 6))\n",
    "sns.barplot(x='year', y='barrels per year', data=df_2, palette=\"cividis\")\n",
    "\n",
    "\n",
    "# Configura os rótulos e título\n",
    "plt.xlabel('Ano')\n",
    "plt.ylabel('Quantidade de Barris')\n",
    "plt.title('Produção de Petróleo por Ano na Russia')\n",
    "\n",
    "# Ajusta a rotação dos valores no eixo x\n",
    "plt.xticks(rotation=45)\n",
    "\n",
    "# Adiciona anotações dos valores em cada barra\n",
    "for p in ax.patches:\n",
    "    ax.annotate(f'{p.get_height():,.0f}',  # Formata o valor com vírgulas\n",
    "                (p.get_x() + p.get_width() / 2., p.get_height()),  # Posição da anotação\n",
    "                ha='center', va='bottom', fontsize=10)  # Alinhamento e tamanho da fonte\n",
    "\n",
    "plt.tight_layout()  # Ajusta o layout\n",
    "plt.show()"
   ]
  },
  {
   "cell_type": "markdown",
   "metadata": {},
   "source": [
    "Ao analisar os dados da produção de petróleo da Rússia, é notável que, mesmo em meio a um contexto geopolítico desafiador, como as sanções internacionais e o impacto da guerra na Ucrânia, a produção de barris por ano parece ter se mantido relativamente estável.\n",
    "\n",
    "Entre 2000 e 2023, a produção de petróleo na Rússia exibiu uma tendência geral de crescimento, com algumas oscilações. Em 2022, ano em que a guerra na Ucrânia intensificou-se, a produção foi de 10.978 milhões de barris, um leve aumento em relação a 2021, que registrou 10.777 milhões de barris. Mesmo em 2023, a produção permaneceu em um patamar semelhante, com 10.907 milhões de barris.\n",
    "\n",
    "Esses dados sugerem que a Rússia conseguiu, até certo ponto, mitigar os efeitos adversos que a guerra e as sanções poderiam ter sobre sua produção. É importante ressaltar que a Rússia é um dos maiores produtores de petróleo do mundo e, portanto, sua infraestrutura e capacidade de extração são robustas. No entanto, o cenário global continua incerto, e a produção futura pode ser influenciada por fatores externos, como novas sanções ou alterações na demanda mundial.\n",
    "\n",
    "Assim, ao interpretar esses números, é crucial considerar não apenas a produção em si, mas também o contexto mais amplo que envolve decisões políticas, sanções econômicas e a dinâmica do mercado global de energia."
   ]
  },
  {
   "cell_type": "markdown",
   "metadata": {},
   "source": [
    "## Passo 5: Criação do dashboard\n",
    "\n",
    "Com os dados preparados e analisados, é hora de criar um dashboard interativo para apresentar suas desco-\n",
    "bertas. Utilize uma ferramenta de visualização de dados, como Tableau, Power BI ou Python (por exemplo,\n",
    "usando bibliotecas como Matplotlib, Seaborn ou Plotly), para criar gráficos e visualizações interativas. Certifi-\n",
    "que-se de incluir informações relevantes sobre a variação do preço do barril de petróleo Brent, bem como in-\n",
    "sights derivados da análise dos dados.\n",
    "\n",
    "Lembre-se de documentar todo o processo, desde a coleta dos dados até a criação do dashboard. Isso aju-\n",
    "dará a refletir sobre as etapas realizadas e a compartilhar seu conhecimento com outras pessoas interessa-\n",
    "das na analise de dados."
   ]
  },
  {
   "cell_type": "markdown",
   "metadata": {},
   "source": []
  }
 ],
 "metadata": {
  "kernelspec": {
   "display_name": "Python 3",
   "language": "python",
   "name": "python3"
  },
  "language_info": {
   "codemirror_mode": {
    "name": "ipython",
    "version": 3
   },
   "file_extension": ".py",
   "mimetype": "text/x-python",
   "name": "python",
   "nbconvert_exporter": "python",
   "pygments_lexer": "ipython3",
   "version": "3.10.11"
  }
 },
 "nbformat": 4,
 "nbformat_minor": 2
}
